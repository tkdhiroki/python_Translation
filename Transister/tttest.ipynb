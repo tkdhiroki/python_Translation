{
 "metadata": {
  "language_info": {
   "codemirror_mode": {
    "name": "ipython",
    "version": 3
   },
   "file_extension": ".py",
   "mimetype": "text/x-python",
   "name": "python",
   "nbconvert_exporter": "python",
   "pygments_lexer": "ipython3",
   "version": "3.7.6-final"
  },
  "orig_nbformat": 2,
  "kernelspec": {
   "name": "Python 3.7.6 64-bit ('base': conda)",
   "display_name": "Python 3.7.6 64-bit ('base': conda)",
   "metadata": {
    "interpreter": {
     "hash": "1e50ff0e1a6247f0977944eb4135561bea6c5c8fa7151a494670d8792079aa68"
    }
   }
  }
 },
 "nbformat": 4,
 "nbformat_minor": 2,
 "cells": [
  {
   "cell_type": "code",
   "execution_count": 1,
   "metadata": {},
   "outputs": [
    {
     "output_type": "stream",
     "name": "stdout",
     "text": [
      "Collecting pillow\n  Downloading Pillow-8.0.1-cp37-cp37m-win_amd64.whl (2.1 MB)\nInstalling collected packages: pillow\n  Attempting uninstall: pillow\n    Found existing installation: Pillow 7.0.0\n    Uninstalling Pillow-7.0.0:\n      Successfully uninstalled Pillow-7.0.0\nSuccessfully installed pillow-8.0.1\nNote: you may need to restart the kernel to use updated packages.\n"
     ]
    }
   ],
   "source": [
    "pip install -U pillow"
   ]
  },
  {
   "cell_type": "code",
   "execution_count": 2,
   "metadata": {},
   "outputs": [
    {
     "output_type": "stream",
     "name": "stdout",
     "text": [
      "Help on package PIL:\n\nNAME\n    PIL - Pillow (Fork of the Python Imaging Library)\n\nDESCRIPTION\n    Pillow is the friendly PIL fork by Alex Clark and Contributors.\n        https://github.com/python-pillow/Pillow/\n    \n    Pillow is forked from PIL 1.1.7.\n    \n    PIL is the Python Imaging Library by Fredrik Lundh and Contributors.\n    Copyright (c) 1999 by Secret Labs AB.\n    \n    Use PIL.__version__ for this Pillow version.\n    \n    ;-)\n\nPACKAGE CONTENTS\n    BdfFontFile\n    BlpImagePlugin\n    BmpImagePlugin\n    BufrStubImagePlugin\n    ContainerIO\n    CurImagePlugin\n    DcxImagePlugin\n    DdsImagePlugin\n    EpsImagePlugin\n    ExifTags\n    FitsStubImagePlugin\n    FliImagePlugin\n    FontFile\n    FpxImagePlugin\n    FtexImagePlugin\n    GbrImagePlugin\n    GdImageFile\n    GifImagePlugin\n    GimpGradientFile\n    GimpPaletteFile\n    GribStubImagePlugin\n    Hdf5StubImagePlugin\n    IcnsImagePlugin\n    IcoImagePlugin\n    ImImagePlugin\n    Image\n    ImageChops\n    ImageCms\n    ImageColor\n    ImageDraw\n    ImageDraw2\n    ImageEnhance\n    ImageFile\n    ImageFilter\n    ImageFont\n    ImageGrab\n    ImageMath\n    ImageMode\n    ImageMorph\n    ImageOps\n    ImagePalette\n    ImagePath\n    ImageQt\n    ImageSequence\n    ImageShow\n    ImageStat\n    ImageTk\n    ImageTransform\n    ImageWin\n    ImtImagePlugin\n    IptcImagePlugin\n    Jpeg2KImagePlugin\n    JpegImagePlugin\n    JpegPresets\n    McIdasImagePlugin\n    MicImagePlugin\n    MpegImagePlugin\n    MpoImagePlugin\n    MspImagePlugin\n    PSDraw\n    PaletteFile\n    PalmImagePlugin\n    PcdImagePlugin\n    PcfFontFile\n    PcxImagePlugin\n    PdfImagePlugin\n    PdfParser\n    PixarImagePlugin\n    PngImagePlugin\n    PpmImagePlugin\n    PsdImagePlugin\n    PyAccess\n    SgiImagePlugin\n    SpiderImagePlugin\n    SunImagePlugin\n    TarIO\n    TgaImagePlugin\n    TiffImagePlugin\n    TiffTags\n    WalImageFile\n    WebPImagePlugin\n    WmfImagePlugin\n    XVThumbImagePlugin\n    XbmImagePlugin\n    XpmImagePlugin\n    __main__\n    _binary\n    _imaging\n    _imagingcms\n    _imagingft\n    _imagingmath\n    _imagingmorph\n    _imagingtk\n    _tkinter_finder\n    _util\n    _version\n    _webp\n    features\n\nCLASSES\n    builtins.OSError(builtins.Exception)\n        UnidentifiedImageError\n    \n    class UnidentifiedImageError(builtins.OSError)\n     |  Raised in :py:meth:`PIL.Image.open` if an image cannot be opened and identified.\n     |  \n     |  Method resolution order:\n     |      UnidentifiedImageError\n     |      builtins.OSError\n     |      builtins.Exception\n     |      builtins.BaseException\n     |      builtins.object\n     |  \n     |  Data descriptors defined here:\n     |  \n     |  __weakref__\n     |      list of weak references to the object (if defined)\n     |  \n     |  ----------------------------------------------------------------------\n     |  Methods inherited from builtins.OSError:\n     |  \n     |  __init__(self, /, *args, **kwargs)\n     |      Initialize self.  See help(type(self)) for accurate signature.\n     |  \n     |  __reduce__(...)\n     |      Helper for pickle.\n     |  \n     |  __str__(self, /)\n     |      Return str(self).\n     |  \n     |  ----------------------------------------------------------------------\n     |  Static methods inherited from builtins.OSError:\n     |  \n     |  __new__(*args, **kwargs) from builtins.type\n     |      Create and return a new object.  See help(type) for accurate signature.\n     |  \n     |  ----------------------------------------------------------------------\n     |  Data descriptors inherited from builtins.OSError:\n     |  \n     |  characters_written\n     |  \n     |  errno\n     |      POSIX exception code\n     |  \n     |  filename\n     |      exception filename\n     |  \n     |  filename2\n     |      second exception filename\n     |  \n     |  strerror\n     |      exception strerror\n     |  \n     |  winerror\n     |      Win32 exception code\n     |  \n     |  ----------------------------------------------------------------------\n     |  Methods inherited from builtins.BaseException:\n     |  \n     |  __delattr__(self, name, /)\n     |      Implement delattr(self, name).\n     |  \n     |  __getattribute__(self, name, /)\n     |      Return getattr(self, name).\n     |  \n     |  __repr__(self, /)\n     |      Return repr(self).\n     |  \n     |  __setattr__(self, name, value, /)\n     |      Implement setattr(self, name, value).\n     |  \n     |  __setstate__(...)\n     |  \n     |  with_traceback(...)\n     |      Exception.with_traceback(tb) --\n     |      set self.__traceback__ to tb and return self.\n     |  \n     |  ----------------------------------------------------------------------\n     |  Data descriptors inherited from builtins.BaseException:\n     |  \n     |  __cause__\n     |      exception cause\n     |  \n     |  __context__\n     |      exception context\n     |  \n     |  __dict__\n     |  \n     |  __suppress_context__\n     |  \n     |  __traceback__\n     |  \n     |  args\n\nFUNCTIONS\n    __getattr__(name)\n\nVERSION\n    8.0.1\n\nFILE\n    c:\\users\\hirok\\anaconda3\\lib\\site-packages\\pil\\__init__.py\n\n\n"
     ]
    }
   ],
   "source": [
    "import PIL\n",
    "\n",
    "help(PIL)"
   ]
  }
 ]
}